{
  "cells": [
    {
      "cell_type": "markdown",
      "metadata": {
        "id": "U23PvTMk2T2l"
      },
      "source": [
        "# AskWikidata\n",
        "\n",
        "\n",
        "A prototype for a Wikidata Question Answering System.\n",
        "https://github.com/rti/askwikidata\n"
      ]
    },
    {
      "cell_type": "markdown",
      "metadata": {
        "id": "t63hh1GTQSRL"
      },
      "source": [
        "## Quickstart Notebook"
      ]
    },
    {
      "cell_type": "code",
      "execution_count": null,
      "metadata": {
        "id": "3TBYXNbo3s94",
        "scrolled": true
      },
      "outputs": [],
      "source": [
        "# Clone the askwikidata repo from Github.\n",
        "!git clone https://github.com/rti/askwikidata && cp -r askwikidata/* . && rm -rf askwikidata"
      ]
    },
    {
      "cell_type": "code",
      "execution_count": null,
      "metadata": {
        "id": "px_KLdqQ-nSX"
      },
      "outputs": [],
      "source": [
        "# Install required libraries.\n",
        "!pip install -q langchain annoy sentence_transformers transformers touch pandas tqdm protobuf accelerate bitsandbytes safetensors sentencepiece"
      ]
    },
    {
      "cell_type": "code",
      "execution_count": 4,
      "metadata": {
        "id": "iuGfAbH1f2a-"
      },
      "outputs": [],
      "source": [
        "# Unzip all cache files provided with the askwikidata repository.\n",
        "!bunzip2 --force --keep *.bz2"
      ]
    },
    {
      "cell_type": "code",
      "execution_count": null,
      "metadata": {
        "id": "FXrXBcLU4Fz5"
      },
      "outputs": [],
      "source": [
        "# Generate text representations of Wikidata items.\n",
        "!python text_representation.py > text_representations.log"
      ]
    },
    {
      "cell_type": "code",
      "execution_count": null,
      "metadata": {
        "id": "x3UBuXzO8CAL",
        "scrolled": true
      },
      "outputs": [],
      "source": [
        "# Add askwikidata source to the python import paths.\n",
        "import sys\n",
        "sys.path.append('/content/')\n",
        "\n",
        "# Setup the actual AskWikidata RAG system.\n",
        "from askwikidata import AskWikidata\n",
        "\n",
        "config = {\n",
        "    \"chunk_size\": 1280,\n",
        "    \"chunk_overlap\": 0,\n",
        "    \"index_trees\": 1024,\n",
        "    \"retrieval_chunks\": 16,\n",
        "    \"context_chunks\": 5,\n",
        "    \"embedding_model_name\": \"BAAI/bge-small-en-v1.5\",\n",
        "    \"reranker_model_name\": \"BAAI/bge-reranker-base\",\n",
        "    \"qa_model_url\": \"mistralai/Mistral-7B-Instruct-v0.1\",\n",
        "}\n",
        "\n",
        "askwikidata = AskWikidata(**config)\n",
        "askwikidata.setup()"
      ]
    },
    {
      "cell_type": "code",
      "execution_count": null,
      "metadata": {
        "id": "SD5GEZjwFwR6"
      },
      "outputs": [],
      "source": [
        "# Answer an example question.\n",
        "print(askwikidata.ask(\"Who is the current mayor of Berlin? Since when do they serve?\"))"
      ]
    },
    {
      "cell_type": "code",
      "execution_count": null,
      "metadata": {
        "id": "Fya6y_V1KT4c"
      },
      "outputs": [],
      "source": [
        "# Try to answer any question.\n",
        "query = input(\"AskWikidata >> \")\n",
        "print(askwikidata.ask(query))"
      ]
    }
  ],
  "metadata": {
    "accelerator": "GPU",
    "colab": {
      "provenance": [],
      "gpuType": "T4"
    },
    "kernelspec": {
      "display_name": "Python 3",
      "name": "python3"
    },
    "language_info": {
      "codemirror_mode": {
        "name": "ipython",
        "version": 3
      },
      "file_extension": ".py",
      "mimetype": "text/x-python",
      "name": "python",
      "nbconvert_exporter": "python",
      "pygments_lexer": "ipython3",
      "version": "3.10.12"
    }
  },
  "nbformat": 4,
  "nbformat_minor": 0
}