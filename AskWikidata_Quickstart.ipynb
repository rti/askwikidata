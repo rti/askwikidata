{
 "cells": [
  {
   "cell_type": "markdown",
   "metadata": {
    "id": "U23PvTMk2T2l"
   },
   "source": [
    "# AskWikidata\n",
    "\n",
    "\n",
    "A prototype for a Wikidata Question Answering System.\n"
   ]
  },
  {
   "cell_type": "markdown",
   "metadata": {
    "id": "t63hh1GTQSRL"
   },
   "source": [
    "## Quickstart Notebook"
   ]
  },
  {
   "cell_type": "code",
   "execution_count": null,
   "metadata": {
    "colab": {
     "base_uri": "https://localhost:8080/"
    },
    "id": "3TBYXNbo3s94",
    "outputId": "dc8c0443-471d-4753-9235-c436e1f2fef3",
    "scrolled": true
   },
   "outputs": [],
   "source": [
    "# Clone the askwikidata repo from Github.\n",
    "!git clone https://github.com/rti/askwikidata && cp -r askwikidata/* . && rm -rf askwikidata"
   ]
  },
  {
   "cell_type": "code",
   "execution_count": null,
   "metadata": {
    "colab": {
     "base_uri": "https://localhost:8080/"
    },
    "id": "px_KLdqQ-nSX",
    "outputId": "22f6232d-e91b-42b3-edd7-49b0f6ff391e"
   },
   "outputs": [],
   "source": [
    "# Install required libraries.\n",
    "!pip install -q langchain annoy sentence_transformers transformers touch pandas tqdm protobuf accelerate bitsandbytes safetensors sentencepiece"
   ]
  },
  {
   "cell_type": "code",
   "execution_count": null,
   "metadata": {
    "id": "iuGfAbH1f2a-"
   },
   "outputs": [],
   "source": [
    "# Unzip all cache files provided with the askwikidata repository.\n",
    "!bunzip2 --force --keep *.bz2"
   ]
  },
  {
   "cell_type": "code",
   "execution_count": null,
   "metadata": {
    "colab": {
     "base_uri": "https://localhost:8080/"
    },
    "id": "FXrXBcLU4Fz5",
    "outputId": "859bfd49-b985-40f8-b925-ef211f5532a6"
   },
   "outputs": [],
   "source": [
    "# Generate text representations of Wikidata items.\n",
    "!python text_representation.py > text_representations.log"
   ]
  },
  {
   "cell_type": "code",
   "execution_count": null,
   "metadata": {
    "colab": {
     "base_uri": "https://localhost:8080/",
     "height": 112,
     "referenced_widgets": [
      "a17b4964f7d84feca3d010db4d62e07b",
      "f824a396989e4b7aa860336bcb6facf7",
      "0b447aad597a46adbad14ff3f0b02d7f",
      "db20c7e6ceb34ce6b3dcf4f76910ad60",
      "1302b93b7ac34a9c834edbe1cdd7578c",
      "a349176611144318b3f1e721cfdacb1c",
      "c92bbbfdfcd349a2a26cdb95181a4d80",
      "2c9087ac3712421d8668f5cce000e4ef",
      "6cf73fe88f82444baff1614c20ef0f77",
      "513aa2df313543048c1510c0c8cb1486",
      "264282485a0545bf980a940a05f89830"
     ]
    },
    "id": "x3UBuXzO8CAL",
    "outputId": "7411f051-0463-4d7b-8b53-95848534ea56",
    "scrolled": true
   },
   "outputs": [],
   "source": [
    "# Add askwikidata source to the python import paths.\n",
    "import sys\n",
    "sys.path.append('/content/')\n",
    "\n",
    "# Setup the actual AskWikidata RAG system.\n",
    "from askwikidata import AskWikidata\n",
    "\n",
    "config = {\n",
    "    \"chunk_size\": 1280,\n",
    "    \"chunk_overlap\": 0,\n",
    "    \"index_trees\": 1024,\n",
    "    \"retrieval_chunks\": 16,\n",
    "    \"context_chunks\": 5,\n",
    "    \"embedding_model_name\": \"BAAI/bge-small-en-v1.5\",\n",
    "    \"reranker_model_name\": \"BAAI/bge-reranker-base\",\n",
    "    \"qa_model_url\": \"mistralai/Mistral-7B-Instruct-v0.1\",\n",
    "}\n",
    "\n",
    "askwikidata = AskWikidata(**config)\n",
    "askwikidata.setup()"
   ]
  },
  {
   "cell_type": "code",
   "execution_count": null,
   "metadata": {
    "colab": {
     "base_uri": "https://localhost:8080/"
    },
    "id": "SD5GEZjwFwR6",
    "outputId": "926b0631-1163-4196-94f9-710f868811a4"
   },
   "outputs": [],
   "source": [
    "# Answer an example question.\n",
    "print(askwikidata.ask(\"Who is the current mayor of Berlin? Since when do they serve?\"))"
   ]
  },
  {
   "cell_type": "code",
   "execution_count": null,
   "metadata": {},
   "outputs": [],
   "source": [
    "# Answer any question.\n",
    "query = input(\"AskWikidata >> \")\n",
    "response = askwikidata.ask(query)\n",
    "print(\"\\n\" + response + \"\\n\")"
   ]
  }
 ],
 "metadata": {
  "accelerator": "GPU",
  "colab": {
   "provenance": []
  },
  "kernelspec": {
   "display_name": "Python 3 (ipykernel)",
   "language": "python",
   "name": "python3"
  },
  "language_info": {
   "codemirror_mode": {
    "name": "ipython",
    "version": 3
   },
   "file_extension": ".py",
   "mimetype": "text/x-python",
   "name": "python",
   "nbconvert_exporter": "python",
   "pygments_lexer": "ipython3",
   "version": "3.10.12"
  },
  "widgets": {
   "application/vnd.jupyter.widget-state+json": {
    "0b447aad597a46adbad14ff3f0b02d7f": {
     "model_module": "@jupyter-widgets/controls",
     "model_module_version": "1.5.0",
     "model_name": "FloatProgressModel",
     "state": {
      "_dom_classes": [],
      "_model_module": "@jupyter-widgets/controls",
      "_model_module_version": "1.5.0",
      "_model_name": "FloatProgressModel",
      "_view_count": null,
      "_view_module": "@jupyter-widgets/controls",
      "_view_module_version": "1.5.0",
      "_view_name": "ProgressView",
      "bar_style": "",
      "description": "",
      "description_tooltip": null,
      "layout": "IPY_MODEL_2c9087ac3712421d8668f5cce000e4ef",
      "max": 2,
      "min": 0,
      "orientation": "horizontal",
      "style": "IPY_MODEL_6cf73fe88f82444baff1614c20ef0f77",
      "value": 1
     }
    },
    "1302b93b7ac34a9c834edbe1cdd7578c": {
     "model_module": "@jupyter-widgets/base",
     "model_module_version": "1.2.0",
     "model_name": "LayoutModel",
     "state": {
      "_model_module": "@jupyter-widgets/base",
      "_model_module_version": "1.2.0",
      "_model_name": "LayoutModel",
      "_view_count": null,
      "_view_module": "@jupyter-widgets/base",
      "_view_module_version": "1.2.0",
      "_view_name": "LayoutView",
      "align_content": null,
      "align_items": null,
      "align_self": null,
      "border": null,
      "bottom": null,
      "display": null,
      "flex": null,
      "flex_flow": null,
      "grid_area": null,
      "grid_auto_columns": null,
      "grid_auto_flow": null,
      "grid_auto_rows": null,
      "grid_column": null,
      "grid_gap": null,
      "grid_row": null,
      "grid_template_areas": null,
      "grid_template_columns": null,
      "grid_template_rows": null,
      "height": null,
      "justify_content": null,
      "justify_items": null,
      "left": null,
      "margin": null,
      "max_height": null,
      "max_width": null,
      "min_height": null,
      "min_width": null,
      "object_fit": null,
      "object_position": null,
      "order": null,
      "overflow": null,
      "overflow_x": null,
      "overflow_y": null,
      "padding": null,
      "right": null,
      "top": null,
      "visibility": null,
      "width": null
     }
    },
    "264282485a0545bf980a940a05f89830": {
     "model_module": "@jupyter-widgets/controls",
     "model_module_version": "1.5.0",
     "model_name": "DescriptionStyleModel",
     "state": {
      "_model_module": "@jupyter-widgets/controls",
      "_model_module_version": "1.5.0",
      "_model_name": "DescriptionStyleModel",
      "_view_count": null,
      "_view_module": "@jupyter-widgets/base",
      "_view_module_version": "1.2.0",
      "_view_name": "StyleView",
      "description_width": ""
     }
    },
    "2c9087ac3712421d8668f5cce000e4ef": {
     "model_module": "@jupyter-widgets/base",
     "model_module_version": "1.2.0",
     "model_name": "LayoutModel",
     "state": {
      "_model_module": "@jupyter-widgets/base",
      "_model_module_version": "1.2.0",
      "_model_name": "LayoutModel",
      "_view_count": null,
      "_view_module": "@jupyter-widgets/base",
      "_view_module_version": "1.2.0",
      "_view_name": "LayoutView",
      "align_content": null,
      "align_items": null,
      "align_self": null,
      "border": null,
      "bottom": null,
      "display": null,
      "flex": null,
      "flex_flow": null,
      "grid_area": null,
      "grid_auto_columns": null,
      "grid_auto_flow": null,
      "grid_auto_rows": null,
      "grid_column": null,
      "grid_gap": null,
      "grid_row": null,
      "grid_template_areas": null,
      "grid_template_columns": null,
      "grid_template_rows": null,
      "height": null,
      "justify_content": null,
      "justify_items": null,
      "left": null,
      "margin": null,
      "max_height": null,
      "max_width": null,
      "min_height": null,
      "min_width": null,
      "object_fit": null,
      "object_position": null,
      "order": null,
      "overflow": null,
      "overflow_x": null,
      "overflow_y": null,
      "padding": null,
      "right": null,
      "top": null,
      "visibility": null,
      "width": null
     }
    },
    "513aa2df313543048c1510c0c8cb1486": {
     "model_module": "@jupyter-widgets/base",
     "model_module_version": "1.2.0",
     "model_name": "LayoutModel",
     "state": {
      "_model_module": "@jupyter-widgets/base",
      "_model_module_version": "1.2.0",
      "_model_name": "LayoutModel",
      "_view_count": null,
      "_view_module": "@jupyter-widgets/base",
      "_view_module_version": "1.2.0",
      "_view_name": "LayoutView",
      "align_content": null,
      "align_items": null,
      "align_self": null,
      "border": null,
      "bottom": null,
      "display": null,
      "flex": null,
      "flex_flow": null,
      "grid_area": null,
      "grid_auto_columns": null,
      "grid_auto_flow": null,
      "grid_auto_rows": null,
      "grid_column": null,
      "grid_gap": null,
      "grid_row": null,
      "grid_template_areas": null,
      "grid_template_columns": null,
      "grid_template_rows": null,
      "height": null,
      "justify_content": null,
      "justify_items": null,
      "left": null,
      "margin": null,
      "max_height": null,
      "max_width": null,
      "min_height": null,
      "min_width": null,
      "object_fit": null,
      "object_position": null,
      "order": null,
      "overflow": null,
      "overflow_x": null,
      "overflow_y": null,
      "padding": null,
      "right": null,
      "top": null,
      "visibility": null,
      "width": null
     }
    },
    "6cf73fe88f82444baff1614c20ef0f77": {
     "model_module": "@jupyter-widgets/controls",
     "model_module_version": "1.5.0",
     "model_name": "ProgressStyleModel",
     "state": {
      "_model_module": "@jupyter-widgets/controls",
      "_model_module_version": "1.5.0",
      "_model_name": "ProgressStyleModel",
      "_view_count": null,
      "_view_module": "@jupyter-widgets/base",
      "_view_module_version": "1.2.0",
      "_view_name": "StyleView",
      "bar_color": null,
      "description_width": ""
     }
    },
    "a17b4964f7d84feca3d010db4d62e07b": {
     "model_module": "@jupyter-widgets/controls",
     "model_module_version": "1.5.0",
     "model_name": "HBoxModel",
     "state": {
      "_dom_classes": [],
      "_model_module": "@jupyter-widgets/controls",
      "_model_module_version": "1.5.0",
      "_model_name": "HBoxModel",
      "_view_count": null,
      "_view_module": "@jupyter-widgets/controls",
      "_view_module_version": "1.5.0",
      "_view_name": "HBoxView",
      "box_style": "",
      "children": [
       "IPY_MODEL_f824a396989e4b7aa860336bcb6facf7",
       "IPY_MODEL_0b447aad597a46adbad14ff3f0b02d7f",
       "IPY_MODEL_db20c7e6ceb34ce6b3dcf4f76910ad60"
      ],
      "layout": "IPY_MODEL_1302b93b7ac34a9c834edbe1cdd7578c"
     }
    },
    "a349176611144318b3f1e721cfdacb1c": {
     "model_module": "@jupyter-widgets/base",
     "model_module_version": "1.2.0",
     "model_name": "LayoutModel",
     "state": {
      "_model_module": "@jupyter-widgets/base",
      "_model_module_version": "1.2.0",
      "_model_name": "LayoutModel",
      "_view_count": null,
      "_view_module": "@jupyter-widgets/base",
      "_view_module_version": "1.2.0",
      "_view_name": "LayoutView",
      "align_content": null,
      "align_items": null,
      "align_self": null,
      "border": null,
      "bottom": null,
      "display": null,
      "flex": null,
      "flex_flow": null,
      "grid_area": null,
      "grid_auto_columns": null,
      "grid_auto_flow": null,
      "grid_auto_rows": null,
      "grid_column": null,
      "grid_gap": null,
      "grid_row": null,
      "grid_template_areas": null,
      "grid_template_columns": null,
      "grid_template_rows": null,
      "height": null,
      "justify_content": null,
      "justify_items": null,
      "left": null,
      "margin": null,
      "max_height": null,
      "max_width": null,
      "min_height": null,
      "min_width": null,
      "object_fit": null,
      "object_position": null,
      "order": null,
      "overflow": null,
      "overflow_x": null,
      "overflow_y": null,
      "padding": null,
      "right": null,
      "top": null,
      "visibility": null,
      "width": null
     }
    },
    "c92bbbfdfcd349a2a26cdb95181a4d80": {
     "model_module": "@jupyter-widgets/controls",
     "model_module_version": "1.5.0",
     "model_name": "DescriptionStyleModel",
     "state": {
      "_model_module": "@jupyter-widgets/controls",
      "_model_module_version": "1.5.0",
      "_model_name": "DescriptionStyleModel",
      "_view_count": null,
      "_view_module": "@jupyter-widgets/base",
      "_view_module_version": "1.2.0",
      "_view_name": "StyleView",
      "description_width": ""
     }
    },
    "db20c7e6ceb34ce6b3dcf4f76910ad60": {
     "model_module": "@jupyter-widgets/controls",
     "model_module_version": "1.5.0",
     "model_name": "HTMLModel",
     "state": {
      "_dom_classes": [],
      "_model_module": "@jupyter-widgets/controls",
      "_model_module_version": "1.5.0",
      "_model_name": "HTMLModel",
      "_view_count": null,
      "_view_module": "@jupyter-widgets/controls",
      "_view_module_version": "1.5.0",
      "_view_name": "HTMLView",
      "description": "",
      "description_tooltip": null,
      "layout": "IPY_MODEL_513aa2df313543048c1510c0c8cb1486",
      "placeholder": "​",
      "style": "IPY_MODEL_264282485a0545bf980a940a05f89830",
      "value": " 1/2 [00:46&lt;00:46, 46.31s/it]"
     }
    },
    "f824a396989e4b7aa860336bcb6facf7": {
     "model_module": "@jupyter-widgets/controls",
     "model_module_version": "1.5.0",
     "model_name": "HTMLModel",
     "state": {
      "_dom_classes": [],
      "_model_module": "@jupyter-widgets/controls",
      "_model_module_version": "1.5.0",
      "_model_name": "HTMLModel",
      "_view_count": null,
      "_view_module": "@jupyter-widgets/controls",
      "_view_module_version": "1.5.0",
      "_view_name": "HTMLView",
      "description": "",
      "description_tooltip": null,
      "layout": "IPY_MODEL_a349176611144318b3f1e721cfdacb1c",
      "placeholder": "​",
      "style": "IPY_MODEL_c92bbbfdfcd349a2a26cdb95181a4d80",
      "value": "Loading checkpoint shards:  50%"
     }
    }
   }
  }
 },
 "nbformat": 4,
 "nbformat_minor": 4
}
